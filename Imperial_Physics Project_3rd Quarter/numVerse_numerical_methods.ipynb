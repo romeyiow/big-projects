{
 "cells": [
  {
   "cell_type": "markdown",
   "metadata": {},
   "source": [
    "## NUMERICAL METHODS"
   ]
  },
  {
   "cell_type": "markdown",
   "metadata": {},
   "source": [
    "### Numerical Differentiation"
   ]
  },
  {
   "cell_type": "markdown",
   "metadata": {},
   "source": [
    "####    Central Finite Differences"
   ]
  },
  {
   "cell_type": "code",
   "execution_count": 3,
   "metadata": {},
   "outputs": [],
   "source": [
    "def my_Diff_central(f,x,order,h):\n",
    "    if order == 1:\n",
    "        der = ( f(x+h)-f(x-h) )/(2*h)\n",
    "    if order == 2:    \n",
    "        der = ( f(x+h)- 2*f(x)+ f(x-h) )/(h**2)\n",
    "    if order == 3:\n",
    "        der = ( f(x+2*h) - 2*f(x+h) + 2*f(x-h) - f(x-2*h) )/(2*h**3)\n",
    "    if order == 4:\n",
    "        der = ( f(x+2*h) - 4*f(x+h) + 6*f(x) - 4*f(x-h) + f(x-2*h) )/(h**4)\n",
    "\n",
    "    return der"
   ]
  },
  {
   "cell_type": "markdown",
   "metadata": {},
   "source": [
    "#### Forward Finite Differences"
   ]
  },
  {
   "cell_type": "code",
   "execution_count": 2,
   "metadata": {},
   "outputs": [],
   "source": [
    "def my_Diff_forward(f,x,order,h):\n",
    "    if order == 1:\n",
    "        der = ( f(x + h)-f(x) ) / (h)\n",
    "    if order == 2:    \n",
    "        der = ( f(x + 2*h)- 2*f(x + h) + f(x) ) / (h**2)\n",
    "    if order == 3:\n",
    "        der = ( f(x + 3*h) - 3*f(x + 2*h) + 3*f(x + h) - f(x) ) / (h**3)\n",
    "    if order == 4:\n",
    "        der = ( f(x + 4*h) - 4*f(x + 3*h) + 6*f(x + 2*h) - 4*f(x + h) + f(x) ) / (h**4)\n",
    "\n",
    "    return  der"
   ]
  },
  {
   "cell_type": "markdown",
   "metadata": {},
   "source": [
    "#### Backward Finite Differences"
   ]
  },
  {
   "cell_type": "code",
   "execution_count": 1,
   "metadata": {},
   "outputs": [],
   "source": [
    "def my_Diff_backward(f,x,order,h):\n",
    "    if order == 1:\n",
    "        der = ( f(x) - f(x-h) )/(h)\n",
    "    if order == 2:    \n",
    "        der = ( f(x) - 2*f(x-h) + f(x-2*h) )/(h**2)\n",
    "    if order == 3:\n",
    "        der = ( f(x) + 3*f(x-2*h) - 3*f(x-h) - f(x-3*h) )/(h**3)\n",
    "    if order == 4:\n",
    "        der = ( f(x) - 4*f(x-3*h) + 6*f(x-2*h) - 4*f(x-h) + f(x-4*h) )/(h**4)\n",
    "\n",
    "    return der"
   ]
  },
  {
   "cell_type": "markdown",
   "metadata": {},
   "source": [
    "### Numerical Integration"
   ]
  },
  {
   "cell_type": "markdown",
   "metadata": {},
   "source": [
    "#### Trapezoidal Rule"
   ]
  },
  {
   "cell_type": "code",
   "execution_count": 5,
   "metadata": {},
   "outputs": [],
   "source": [
    "def my_Integ_trapezoidal(f,a,b,n):\n",
    "    h = (b-a) / n\n",
    "    S = 0.5*(f(a) + f(b))\n",
    "    for i in range (1,n):\n",
    "        S += f(a + i*h)\n",
    "    integ = h * S\n",
    "    \n",
    "    return integ"
   ]
  },
  {
   "cell_type": "markdown",
   "metadata": {},
   "source": [
    "#### Simpson's 1/3's Rule"
   ]
  },
  {
   "cell_type": "code",
   "execution_count": 3,
   "metadata": {},
   "outputs": [],
   "source": [
    "def my_Integ_sim_oneThird(f,a,b,n):\n",
    "    h = (b-a) / n\n",
    "    S = f(a) + f(b)\n",
    "    for i in range (1,n,2):\n",
    "        S += 4*f(a + i*h)\n",
    "    for i in range (2,n,2):\n",
    "        S += 2*f(a + i*h)\n",
    "    integ = (h/3) * S\n",
    "    \n",
    "    return integ"
   ]
  },
  {
   "cell_type": "markdown",
   "metadata": {},
   "source": [
    "#### Simpson's 3/8's Rule"
   ]
  },
  {
   "cell_type": "code",
   "execution_count": 6,
   "metadata": {},
   "outputs": [],
   "source": [
    " def my_Integ_sim_threeEighths(f,a,b,n):\n",
    "    h = (b-a) / n\n",
    "    S = f(a) + f(b)\n",
    "    for i in range (1,n,3):\n",
    "        S += 3*(f(a + i*h) + f(a + (i+1)*h)) \n",
    "    for i in range (3,n,3):\n",
    "        S += 2*f(a + i*h)\n",
    "    integ = (3*h/8) * S\n",
    "    \n",
    "    return integ"
   ]
  },
  {
   "cell_type": "markdown",
   "metadata": {},
   "source": [
    "### Numerical Interpolation"
   ]
  },
  {
   "cell_type": "markdown",
   "metadata": {},
   "source": [
    "#### Linear Interpolation"
   ]
  },
  {
   "cell_type": "code",
   "execution_count": 6,
   "metadata": {},
   "outputs": [],
   "source": [
    "def my_inter_linear(rawX):\n",
    "    \n",
    "    def ytemp (xp,x,y):\n",
    "        for i, xi in enumerate(x):\n",
    "            if xp < xi and xp > x[0]:\n",
    "                return y[i-1] + (y[i] - y[i-1])/(x[i]-x[i-1])*(xp - x[i-1])\n",
    "        else:\n",
    "            return \n",
    "    \n",
    "    temp = ytemp(rawX,interDataX,interDataY) \n",
    "    try:\n",
    "        return temp\n",
    "    except:\n",
    "        return 'invalid'\n",
    "        "
   ]
  },
  {
   "cell_type": "markdown",
   "metadata": {},
   "source": [
    "#### Newton's Method "
   ]
  },
  {
   "cell_type": "code",
   "execution_count": 8,
   "metadata": {},
   "outputs": [],
   "source": [
    "def my_inter_newton(rawX):\n",
    "    global interDataX\n",
    "    x = interDataX\n",
    "    global interDataY\n",
    "    y = interDataY\n",
    "    n = len(x)-1\n",
    "    xp = rawX\n",
    "    Dy = np.zeros((n+1,n+1))\n",
    "    Dy[:,0] = y\n",
    "    for j in range (n):\n",
    "        for i in range (j+1,n+1):\n",
    "            Dy[i,j+1] = (Dy[i,j]-Dy[j,j])/(x[i]-x[j])\n",
    "    yp = Dy[0,0]\n",
    "    for i in range(n):\n",
    "        xprod = 1\n",
    "        for j in range (i+1):\n",
    "            xprod *= xp - x[j]\n",
    "        yp += xprod*Dy[i+1,i+1]\n",
    "    return yp"
   ]
  },
  {
   "cell_type": "markdown",
   "metadata": {},
   "source": [
    "#### Lagrange's Method"
   ]
  },
  {
   "cell_type": "code",
   "execution_count": 5,
   "metadata": {},
   "outputs": [],
   "source": [
    "def my_inter_lagrange(rawX):\n",
    "    xp = rawX\n",
    "    #x = [1.0,1.25,1.5,1.4,6.1,8.0] # independent variables/data\n",
    "    #y = [0.0,0.9,2.5,6.6,7.7,8.0] # dependent variable/ data\n",
    "    global interDataX\n",
    "    x = interDataX\n",
    "    global interDataY\n",
    "    y = interDataY\n",
    "    m = len(x) # number of data in consideration\n",
    "    n = m-1 \n",
    "    yp = 0\n",
    "    for i in range (n+1): # stands for summation symbol\n",
    "        Li = 1 # initialize li\n",
    "        for j in range (n+1): # stands for product symbol\n",
    "            if j != i: \n",
    "                Li *= (xp - x[j])/(x[i] - x[j])\n",
    "        yp += y[i]*Li\n",
    "        \n",
    "    return yp"
   ]
  }
 ],
 "metadata": {
  "kernelspec": {
   "display_name": "Python 3",
   "language": "python",
   "name": "python3"
  },
  "language_info": {
   "codemirror_mode": {
    "name": "ipython",
    "version": 3
   },
   "file_extension": ".py",
   "mimetype": "text/x-python",
   "name": "python",
   "nbconvert_exporter": "python",
   "pygments_lexer": "ipython3",
   "version": "3.7.3"
  }
 },
 "nbformat": 4,
 "nbformat_minor": 2
}
