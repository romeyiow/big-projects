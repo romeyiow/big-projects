{
 "cells": [
  {
   "cell_type": "markdown",
   "metadata": {},
   "source": [
    "### PROJECT NUMVERSE: NUMERICAL METHOD SOLVER"
   ]
  },
  {
   "cell_type": "markdown",
   "metadata": {},
   "source": [
    "#### Creator: Jerome C. Imperial | XII Physics"
   ]
  },
  {
   "cell_type": "markdown",
   "metadata": {},
   "source": [
    "THIS A CODE COMPILER. RUN THIS TO START PROGRAM!"
   ]
  },
  {
   "cell_type": "markdown",
   "metadata": {},
   "source": [
    "Note: This could take a little time to load. For faster load, try restarting the notebook few seconds\n",
    "      after running the program for the first time. Then re-run the program.  "
   ]
  },
  {
   "cell_type": "code",
   "execution_count": null,
   "metadata": {},
   "outputs": [
    {
     "name": "stderr",
     "output_type": "stream",
     "text": [
      "Exception in Tkinter callback\n",
      "Traceback (most recent call last):\n",
      "  File \"/tmp/ipykernel_7908/2772578085.py\", line 33, in showExplore\n",
      "    root_integ.destroy()\n",
      "  File \"/usr/lib/python3.10/tkinter/__init__.py\", line 2341, in destroy\n",
      "    self.tk.call('destroy', self._w)\n",
      "_tkinter.TclError: can't invoke \"destroy\" command: application has been destroyed\n",
      "\n",
      "During handling of the above exception, another exception occurred:\n",
      "\n",
      "Traceback (most recent call last):\n",
      "  File \"/tmp/ipykernel_7908/2772578085.py\", line 33, in showExplore\n",
      "    root_integ.destroy()\n",
      "  File \"/usr/lib/python3.10/tkinter/__init__.py\", line 2341, in destroy\n",
      "    self.tk.call('destroy', self._w)\n",
      "_tkinter.TclError: can't invoke \"destroy\" command: application has been destroyed\n",
      "\n",
      "During handling of the above exception, another exception occurred:\n",
      "\n",
      "Traceback (most recent call last):\n",
      "  File \"/tmp/ipykernel_7908/2772578085.py\", line 33, in showExplore\n",
      "    root_integ.destroy()\n",
      "  File \"/usr/lib/python3.10/tkinter/__init__.py\", line 2341, in destroy\n",
      "    self.tk.call('destroy', self._w)\n",
      "_tkinter.TclError: can't invoke \"destroy\" command: application has been destroyed\n",
      "\n",
      "During handling of the above exception, another exception occurred:\n",
      "\n",
      "Traceback (most recent call last):\n",
      "  File \"/tmp/ipykernel_7908/2772578085.py\", line 36, in showExplore\n",
      "    root_diff.destroy()\n",
      "  File \"/usr/lib/python3.10/tkinter/__init__.py\", line 2341, in destroy\n",
      "    self.tk.call('destroy', self._w)\n",
      "_tkinter.TclError: can't invoke \"destroy\" command: application has been destroyed\n",
      "\n",
      "During handling of the above exception, another exception occurred:\n",
      "\n",
      "Traceback (most recent call last):\n",
      "  File \"/usr/lib/python3.10/tkinter/__init__.py\", line 1921, in __call__\n",
      "    return self.func(*args)\n",
      "  File \"/tmp/ipykernel_7908/4171047277.py\", line 98, in checkInputs\n",
      "    solveInteg()\n",
      "  File \"/tmp/ipykernel_7908/4171047277.py\", line 26, in solveInteg\n",
      "    myInteg(function, float(eval(ent_bLim.get())), float(eval(ent_aLim.get())), int(eval(ent_n.get())))\n",
      "  File \"/tmp/ipykernel_7908/455576205.py\", line 3, in myInteg\n",
      "    results[0] = float('%.4f' %my_Integ_trapezoidal(f,a,b,n))\n",
      "  File \"/tmp/ipykernel_7908/1857778034.py\", line 5, in my_Integ_trapezoidal\n",
      "    S += f(a + i*h)\n",
      "  File \"/tmp/ipykernel_7908/4171047277.py\", line 24, in <lambda>\n",
      "    function = lambda x:eval(equation)\n",
      "KeyboardInterrupt\n"
     ]
    }
   ],
   "source": [
    "%run numVerse_miscellaneous.ipynb #sets imports and global variables\n",
    "%run numVerse_GUI.ipynb \n",
    "%run numVerse_core.ipynb\n",
    "%run numVerse_grapher.ipynb\n",
    "\n",
    "start_app() "
   ]
  },
  {
   "cell_type": "code",
   "execution_count": null,
   "metadata": {},
   "outputs": [],
   "source": []
  }
 ],
 "metadata": {
  "kernelspec": {
   "display_name": "Python 3 (ipykernel)",
   "language": "python",
   "name": "python3"
  },
  "language_info": {
   "codemirror_mode": {
    "name": "ipython",
    "version": 3
   },
   "file_extension": ".py",
   "mimetype": "text/x-python",
   "name": "python",
   "nbconvert_exporter": "python",
   "pygments_lexer": "ipython3",
   "version": "3.10.2"
  }
 },
 "nbformat": 4,
 "nbformat_minor": 2
}
