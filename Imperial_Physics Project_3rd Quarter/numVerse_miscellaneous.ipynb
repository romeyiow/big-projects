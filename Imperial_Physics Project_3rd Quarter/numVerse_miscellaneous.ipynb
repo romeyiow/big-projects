{
 "cells": [
  {
   "cell_type": "code",
   "execution_count": 3,
   "metadata": {},
   "outputs": [],
   "source": [
    "import tkinter as tk\n",
    "from tkinter import ttk\n",
    "from matplotlib.backends.backend_tkagg import FigureCanvasTkAgg\n",
    "\n",
    "\n",
    "import numpy as np\n",
    "from numpy import pi,sin,cos,exp,e,tan,arccos,arctan,arcsin\n",
    "import matplotlib.pyplot as plt\n",
    "from matplotlib import style\n",
    "from matplotlib.figure import Figure\n",
    "\n",
    "global homeTracker,menuTracker,diffTracker,interTracker,integTracker,dataTracker\n",
    "homeTracker,menuTracker,diffTracker,interTracker,integTracker,dataTracker = 0,0,0,0,0,0 #*Track%2 if zero means close/destroyed\n",
    "\n",
    "global color\n",
    "color = ['#acdbc9','#dbebc2','#fdd3b5','#f7a7a6','#f48b94'] \n",
    "\n",
    "global black,white\n",
    "white = 'white'\n",
    "black = '#2a363b' \n",
    "\n",
    "global results \n",
    "results = [0.00,0.00,0.00]\n",
    "\n",
    "global errors\n",
    "errors = ['','','']\n",
    "\n",
    "global function\n",
    "\n",
    "global x_input\n",
    "x_input = 1.0\n",
    "\n",
    "global topic\n",
    "topic = 2\n",
    "\n",
    "global methods\n",
    "methods = [['LINEAR','LAGRANGE','NEWTON'],\n",
    "           ['TRAPEZOIDAL',\"1/3 RULE\",\"3/8 RULE\"],\n",
    "           ['FORWARD','CENTRAL','BACKWARD']]\n",
    "\n",
    "global inputs_integ\n",
    "inputs_integ = [' f(x) = _______','','','']\n",
    "\n",
    "global inputs_diff\n",
    "inputs_diff = [' f(x) = _______','',1,'']\n",
    "\n",
    "global interDataX \n",
    "interDataX = [2.4, 5.1, 7.0, 8.5, 9.7, 10.1, 11.78, 12.12] \n",
    "global interDataY\n",
    "interDataY = [0.101, 0.128, 0.241, 0.403, 0.677, 0.78, 1.02, 1.37]\n"
   ]
  }
 ],
 "metadata": {
  "kernelspec": {
   "display_name": "Python 3",
   "language": "python",
   "name": "python3"
  },
  "language_info": {
   "codemirror_mode": {
    "name": "ipython",
    "version": 3
   },
   "file_extension": ".py",
   "mimetype": "text/x-python",
   "name": "python",
   "nbconvert_exporter": "python",
   "pygments_lexer": "ipython3",
   "version": "3.7.3"
  }
 },
 "nbformat": 4,
 "nbformat_minor": 2
}
