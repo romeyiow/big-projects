{
 "cells": [
  {
   "cell_type": "code",
   "execution_count": 1,
   "metadata": {},
   "outputs": [],
   "source": [
    "%run numVerse_numerical_methods.ipynb"
   ]
  },
  {
   "cell_type": "code",
   "execution_count": 9,
   "metadata": {},
   "outputs": [],
   "source": [
    "def myInteg(f,b,a,n): \n",
    "    global results\n",
    "    results[0] = float('%.4f' %my_Integ_trapezoidal(f,a,b,n))\n",
    "    results[1] = float('%.4f' %my_Integ_sim_oneThird(f,a,b,n))\n",
    "    results[2] = float('%.4f' %my_Integ_sim_threeEighths(f,a,b,n))\n",
    "    \n",
    "    global root_integ\n",
    "    root_integ.destroy()\n",
    "    "
   ]
  },
  {
   "cell_type": "code",
   "execution_count": 8,
   "metadata": {},
   "outputs": [],
   "source": [
    "def myDiff(f,x,order,h): \n",
    "    global results\n",
    "    results[0] = float('%.4f' %my_Diff_forward(f,x,order,h))\n",
    "    results[1] = float('%.4f' %my_Diff_central(f,x,order,h))\n",
    "    results[2] = float('%.4f' %my_Diff_backward(f,x,order,h))\n",
    "    \n",
    "    global root_diff\n",
    "    root_diff.destroy()"
   ]
  },
  {
   "cell_type": "code",
   "execution_count": 2,
   "metadata": {},
   "outputs": [],
   "source": [
    "def myInter(rawX): \n",
    "    global results\n",
    "    try:\n",
    "        results[0] = float('%.4f' %my_inter_linear(rawX))\n",
    "    except:\n",
    "        results[0] = '--inapplicable--'\n",
    "    finally:\n",
    "        results[1] = float('%.4f' %my_inter_newton(rawX))\n",
    "        results[2] = float('%.4f' %my_inter_lagrange(rawX))\n",
    "    \n",
    "    global root_inter\n",
    "    root_inter.destroy()"
   ]
  }
 ],
 "metadata": {
  "kernelspec": {
   "display_name": "Python 3",
   "language": "python",
   "name": "python3"
  },
  "language_info": {
   "codemirror_mode": {
    "name": "ipython",
    "version": 3
   },
   "file_extension": ".py",
   "mimetype": "text/x-python",
   "name": "python",
   "nbconvert_exporter": "python",
   "pygments_lexer": "ipython3",
   "version": "3.7.3"
  }
 },
 "nbformat": 4,
 "nbformat_minor": 2
}
