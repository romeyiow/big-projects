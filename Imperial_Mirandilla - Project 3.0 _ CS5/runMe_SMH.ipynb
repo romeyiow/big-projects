{
 "cells": [
  {
   "cell_type": "markdown",
   "metadata": {},
   "source": [
    "## PROJECT NAME: SORTING MEETS HUE\n",
    "MAKER: JEROME IMPERIAL & KEIRON MIRANDILLA"
   ]
  },
  {
   "cell_type": "code",
   "execution_count": null,
   "metadata": {},
   "outputs": [],
   "source": [
    "\"\"\"\n",
    "Please run this code to start the app\n",
    "\"\"\"\n",
    "%run SMH_Miscellaneous.ipynb\n",
    "%run Sorting_Selection_GUI.ipynb\n",
    "%run Sorting_Quick_GUI.ipynb\n",
    "%run Sorting_Methods.ipynb\n",
    "%run Sorting_Bubble_GUI.ipynb\n",
    "%run GUI_Main.ipynb"
   ]
  },
  {
   "cell_type": "code",
   "execution_count": null,
   "metadata": {},
   "outputs": [],
   "source": []
  }
 ],
 "metadata": {
  "kernelspec": {
   "display_name": "Python 3 (ipykernel)",
   "language": "python",
   "name": "python3"
  },
  "language_info": {
   "codemirror_mode": {
    "name": "ipython",
    "version": 3
   },
   "file_extension": ".py",
   "mimetype": "text/x-python",
   "name": "python",
   "nbconvert_exporter": "python",
   "pygments_lexer": "ipython3",
   "version": "3.10.1"
  }
 },
 "nbformat": 4,
 "nbformat_minor": 2
}
