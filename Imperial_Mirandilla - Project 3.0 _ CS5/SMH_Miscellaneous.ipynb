{
 "cells": [
  {
   "cell_type": "code",
   "execution_count": 1,
   "metadata": {},
   "outputs": [],
   "source": [
    "import tkinter as tk\n",
    "from tkinter import ttk\n",
    "from tkinter import *\n",
    "from tkinter import  messagebox\n",
    "import inspect\n",
    "from tkinter import scrolledtext as tkst\n",
    "from colour import Color\n",
    "import random\n",
    "import time\n",
    "\n",
    "\n",
    "\n",
    "\n",
    "global clr\n",
    "clr = ['#FFFFFF','#F1F1F1','#4CAF50','#4C9050','#555555','#282C34','#3A3A3A','#80b6ff','#88c999']\n",
    "hdr = ('Verdana',20,'bold')\n",
    "hdr1 = ('Verdana',17)\n",
    "hdr2 = ('Verdana',15)\n",
    "hdr3 = ('Verdana',13)\n",
    "\n",
    "ntxt = ('Segoe UI',10)\n",
    "ntxt1 = ('Segoe UI',12)\n",
    "ntxt2 = ('Segoe UI',11,'underline bold')\n",
    "ttxt = ('Segoe UI',17)\n",
    "cd = ('Consolas',11)\n",
    "\n",
    "global cStart,cEnd,speed,c\n",
    "speed = 2\n",
    "cStart = Color('cyan')#pink\n",
    "cEnd = Color('pink')#cyan\n",
    "c = list(cStart.range_to(cEnd,50))\n",
    "\n",
    "global method,des\n",
    "method = 1 # bubble sort\n",
    "des = [\"\"\" \"\"\",\n",
    "\"\"\"\n",
    "    Sometimes referred to as sinking sort,bubble sort, is a simple sorting algorithm that repeatedly steps through the list, compares adjacent elements and swaps them if they are in the wrong order. The pass through the list is repeated until the list is sorted.\\n   The algorithm, which is a comparison sort, is named for the way smaller or larger elements \"bubble\" to the top of the list. This simple algorithm performs poorly in real world use and is used primarily as an educational tool. More efficient algorithms such as timsort, or merge sort are used by the sorting libraries built into popular programming languages such as Python and Java.\\n\\nSource:https://en.wikipedia.org/wiki/Bubble_sort\"\"\",\n",
    "\"\"\"\n",
    "    Quicksort is an efficient sorting algorithm. Developed by British computer scientist Tony Hoare in 1959 and published in 1961, it is still a commonly used algorithm for sorting. When implemented well, it can be about two or three times faster than its main competitors, merge sort and heapsort.\\n   Quicksort is a divide-and-conquer algorithm. It works by selecting a 'pivot' element from the array and partitioning the other elements into two sub-arrays, according to whether they are less than or greater than the pivot. The sub-arrays are then sorted recursively. This can be done in-place, requiring small additional amounts of memory to perform the sorting. Quicksort is a comparison sort, meaning that it can sort items of any type for which a \"less-than\" relation is defined. Efficient implementations of Quicksort are not a stable sort, meaning that the relative order of equal sort items is not preserved.\\n\\nSource:https://en.wikipedia.org/wiki/Quick_sort\"\"\",\n",
    "\"\"\"\n",
    "    In computer science, selection sort is an in-place comparison sorting algorithm. It has an O time complexity, which makes it inefficient on large lists, and generally performs worse than the similar insertion sort. \\n   Selection sort is noted for its simplicity and has performance advantages over more complicated algorithms in certain situations, particularly where auxiliary memory is limited. The algorithm divides the input list into two parts: a sorted sublist of items which is built up from left to right at the front of the list and a sublist of the remaining unsorted items that occupy the rest of the list. Initially, the sorted sublist is empty and the unsorted sublist is the entire input list. The algorithm proceeds by finding the smallest element in the unsorted sublist, exchanging it with the leftmost unsorted element, and moving the sublist boundaries one element to the right.\\n\\nSource:https://en.wikipedia.org/wiki/Selection_sort\"\"\"\n",
    "]\n",
    "\n",
    "global perf\n",
    "perf = [['empty?'],\n",
    "       [\" O(n^2) comparisons & O(n^2) swaps\",\" O(n) comparisons & O(1) swaps \",\" O(n^2) comparisons & O(n^2) swaps\"],\n",
    "       [' O(n^2)  ',' O(n log n)  ',' O(n log n)  '],\n",
    "       [' О(n^2) comparisons & О(n) swaps  ',' О(n^2) comparisons & О(n) swaps',' О(n^2) comparisons & О(n) swaps ']\n",
    "       ]"
   ]
  },
  {
   "cell_type": "code",
   "execution_count": 1,
   "metadata": {},
   "outputs": [
    {
     "name": "stdout",
     "output_type": "stream",
     "text": [
      "/usr/bin/python3: No module named pip\n",
      "Note: you may need to restart the kernel to use updated packages.\n"
     ]
    }
   ],
   "source": []
  },
  {
   "cell_type": "code",
   "execution_count": null,
   "metadata": {},
   "outputs": [],
   "source": []
  }
 ],
 "metadata": {
  "kernelspec": {
   "display_name": "Python 3 (ipykernel)",
   "language": "python",
   "name": "python3"
  },
  "language_info": {
   "codemirror_mode": {
    "name": "ipython",
    "version": 3
   },
   "file_extension": ".py",
   "mimetype": "text/x-python",
   "name": "python",
   "nbconvert_exporter": "python",
   "pygments_lexer": "ipython3",
   "version": "3.10.1"
  }
 },
 "nbformat": 4,
 "nbformat_minor": 2
}
